{
  "nbformat": 4,
  "nbformat_minor": 0,
  "metadata": {
    "colab": {
      "name": "18520186_KNN.ipynb",
      "provenance": [],
      "collapsed_sections": [],
      "toc_visible": true,
      "authorship_tag": "ABX9TyOxRtNsdwvIRBiXD+pYMlOc",
      "include_colab_link": true
    },
    "kernelspec": {
      "name": "python3",
      "display_name": "Python 3"
    },
    "language_info": {
      "name": "python"
    }
  },
  "cells": [
    {
      "cell_type": "markdown",
      "metadata": {
        "id": "view-in-github",
        "colab_type": "text"
      },
      "source": [
        "<a href=\"https://colab.research.google.com/github/ndtuan10/PatternRecognition_CS338.L22.KHCL/blob/main/BaiTap/Bai3_KNN.ipynb\" target=\"_parent\"><img src=\"https://colab.research.google.com/assets/colab-badge.svg\" alt=\"Open In Colab\"/></a>"
      ]
    },
    {
      "cell_type": "markdown",
      "metadata": {
        "id": "NwUi5nFGGv4Q"
      },
      "source": [
        "# **Bài tập 3**\n",
        "# **Ngô Đức Tuấn**\n",
        "MSSV: 18520186\n",
        "\n",
        "- Cài đặt thuật toán KNN từ đầu không dùng thư viện"
      ]
    },
    {
      "cell_type": "code",
      "metadata": {
        "colab": {
          "base_uri": "https://localhost:8080/"
        },
        "id": "asII4B4cG0vK",
        "outputId": "059ab6ca-12ab-4ec6-88db-0ff2968b3a6b"
      },
      "source": [
        "from google.colab import drive\n",
        "drive.mount('/content/drive')"
      ],
      "execution_count": null,
      "outputs": [
        {
          "output_type": "stream",
          "text": [
            "Drive already mounted at /content/drive; to attempt to forcibly remount, call drive.mount(\"/content/drive\", force_remount=True).\n"
          ],
          "name": "stdout"
        }
      ]
    },
    {
      "cell_type": "code",
      "metadata": {
        "colab": {
          "base_uri": "https://localhost:8080/"
        },
        "id": "gKLOHU38Oq3v",
        "outputId": "dd962fd0-339a-409b-c4a2-11c7be2221ca"
      },
      "source": [
        "# import các thư viện cần dùng\n",
        "import pandas as pd\n",
        "import numpy as np\n",
        "import matplotlib\n",
        "import matplotlib.pyplot as plt\n",
        "\n",
        "print('''\n",
        "  Phiên bản của các thư viện :\n",
        "    + numpy : {0}\n",
        "    + matplotlib : {1}\n",
        "    + pandas : {2}\n",
        "'''.format(np.__version__, matplotlib.__version__, pd.__version__))"
      ],
      "execution_count": null,
      "outputs": [
        {
          "output_type": "stream",
          "text": [
            "\n",
            "  Phiên bản của các thư viện :\n",
            "    + numpy : 1.19.5\n",
            "    + matplotlib : 3.2.2\n",
            "    + pandas : 1.1.5\n",
            "\n"
          ],
          "name": "stdout"
        }
      ]
    },
    {
      "cell_type": "markdown",
      "metadata": {
        "id": "yEnQogM5H-6_"
      },
      "source": [
        "# **1. Giới thiệu về thuật toán KNN**"
      ]
    },
    {
      "cell_type": "markdown",
      "metadata": {
        "id": "YpAqoVQZIGx0"
      },
      "source": [
        "## Định nghĩa:\n",
        "- **`Classification`** (phân lớp) thuộc kỹ thuật **`Supervised learning`** (Học có giám sát) là quá trình phân lớp 1 bài toán nếu các `nhãn` (`label`) của dữ liệu đầu vào được chia thành một số hữu hạn nhóm.\n",
        "\n",
        "- Giới thiệu về phân lớp dữ liệu:\n",
        "    - Cho tập các mẫu đã phân lớp trước, xây dựng mô hình cho từng lớp.\n",
        "    - Mục đích: gán các mẫu mới vào các lớp với độ chính xác cao nhất có thể.\n",
        "    - Dùng để phân lớp khách hàng, dự đoán tế bào, phân loại giao dịch,...\n",
        "    - Quy trình phân lớp gồm 2 bước: xây dựng mô hình và sử dụng mô hình.\n",
        "\n",
        "- **`K-nearest neighbor`** hay **`KNN`** là phương pháp phân lớp phổ biến nhất trong các **`phương pháp dựa trên thể hiện (instance-based classification)`**.\n",
        "    - **`KNN`** khi huấn luyện, thuật toán này không học một điều gì từ dữ liệu training (do đó thuật toán này có thể gọi là `lazy learning`) mọi tính toán được thực hiện khi nó cần dự đoán kết quả của dữ liệu mới.\n",
        "    - **`KNN`** có thể áp dụng cho `Classification` và `Regression`.\n",
        "    - **`KNN`** còn gọi là `Instance-based learning` hay `Memory-based learning`."
      ]
    },
    {
      "cell_type": "markdown",
      "metadata": {
        "id": "F1nrdlNfH7u2"
      },
      "source": [
        "## Ý tưởng:\n",
        "- Không xây dựng một mô hình (mô tả) rõ ràng cho hàm mục tiêu cần học.\n",
        "- Quá trình học chỉ lưu lại các dữ liệu huấn luyện.\n",
        "- Việc dự đoán cho một quan sat mới sẽ dựa vào các hàng xóm gần nhất trong tập học.\n",
        "=> Do đó KNN là một phương pháp phi tham số `(nonparametric methods)`. "
      ]
    },
    {
      "cell_type": "markdown",
      "metadata": {
        "id": "6H7mFSPOH-O6"
      },
      "source": [
        "## Các bước thực hiện:\n",
        "- **Bước 1**: xác định tham số `k` bằng *số láng giềng gần nhất* (nearest neighbors).\n",
        "- **Bước 2**: tính *khoảng cách* đối tượng cần phân lớp với tất cả các đối tượng trong training data.\n",
        "- **Bước 3**: sắp xếp *khoảng cách* theo thứ tự tăng dần và *xác định K láng giềng gần nhất* với đối tương cần phân lớp.\n",
        "- **Bước 4**: lấy tất cả các lớp của *K láng giếng gần nhất*.\n",
        "- **Bước 5**: dựa vào phần lớn lớp của K để xác định lớp cho đối tượng cần phân lớp."
      ]
    },
    {
      "cell_type": "markdown",
      "metadata": {
        "id": "lHG-w9_2AWmx"
      },
      "source": [
        "## Ưu, nhược điểm:\n",
        "- Ưu điểm:\n",
        "    - Dễ cài đặt và sử dụng.\n",
        "    - Độ phức tạp tính toán của quá trình trainning bằng 0.\n",
        "    - Việc dự đoán kết quả của dữ liệu mới rất đơn giản.\n",
        "    - Không cần giả sử gì về phân phối của các class.\n",
        "    - **`KNN`** cũng có thể sử dụng cho bài toán `Regression`.\n",
        "- Nhược điểm:\n",
        "    - **`KNN`** phụ thuộc vào giá trị k do \n",
        "        - Nếu `k` quá nhỏ, nhạy cảm với nhiễu.\n",
        "        - Nếu `k` quá lớn, vùng lân cận có thể chứa các đặc điểm của lớp khác.\n",
        "    - Cần nhiều thời gian để xác định lớp cho 1 mẫu mới (cần tính và so sánh khoảng cách đến tất cả các mẫu).\n",
        "    - `K` càng lớn thì độ phúc tạp cũng sẽ tăng.\n",
        "    - Việc lưu toàn bộ dữ liệu trong bộ nhớ cũng ảnh hưởng tới hiệu năng."
      ]
    },
    {
      "cell_type": "markdown",
      "metadata": {
        "id": "KanTfqoeI-Kx"
      },
      "source": [
        "# **2. Cài đặt KNN**"
      ]
    },
    {
      "cell_type": "markdown",
      "metadata": {
        "id": "CW7DvMOvVXVc"
      },
      "source": [
        "## **2.1 Load dữ liệu**"
      ]
    },
    {
      "cell_type": "markdown",
      "metadata": {
        "id": "vs8Kn5ufSbop"
      },
      "source": [
        "- Em sử dụng tập dữ liệu mống mắt từ sklearn.datasets. Bộ dữ liệu có các phép đo (Chiều dài Sepal, Chiều rộng Sepal, Chiều dài của cánh hoa, Chiều rộng của cánh hoa) cho 150 cây iris, được chia đều cho ba loài (0 = setosa, 1 = versicolor và 2 = virginica)."
      ]
    },
    {
      "cell_type": "code",
      "metadata": {
        "colab": {
          "base_uri": "https://localhost:8080/",
          "height": 197
        },
        "id": "YkkQIyM1SDoo",
        "outputId": "97e04c47-cb43-4d7c-e6f1-9dbeb75148ff"
      },
      "source": [
        "# Load dữ liệu iris\n",
        "from sklearn import datasets\n",
        "\n",
        "iris = datasets.load_iris()\n",
        "\n",
        "df = pd.DataFrame(data=iris.data, columns=iris.feature_names)\n",
        "df['target'] = iris.target\n",
        "df.head()"
      ],
      "execution_count": null,
      "outputs": [
        {
          "output_type": "execute_result",
          "data": {
            "text/html": [
              "<div>\n",
              "<style scoped>\n",
              "    .dataframe tbody tr th:only-of-type {\n",
              "        vertical-align: middle;\n",
              "    }\n",
              "\n",
              "    .dataframe tbody tr th {\n",
              "        vertical-align: top;\n",
              "    }\n",
              "\n",
              "    .dataframe thead th {\n",
              "        text-align: right;\n",
              "    }\n",
              "</style>\n",
              "<table border=\"1\" class=\"dataframe\">\n",
              "  <thead>\n",
              "    <tr style=\"text-align: right;\">\n",
              "      <th></th>\n",
              "      <th>sepal length (cm)</th>\n",
              "      <th>sepal width (cm)</th>\n",
              "      <th>petal length (cm)</th>\n",
              "      <th>petal width (cm)</th>\n",
              "      <th>target</th>\n",
              "    </tr>\n",
              "  </thead>\n",
              "  <tbody>\n",
              "    <tr>\n",
              "      <th>0</th>\n",
              "      <td>5.1</td>\n",
              "      <td>3.5</td>\n",
              "      <td>1.4</td>\n",
              "      <td>0.2</td>\n",
              "      <td>0</td>\n",
              "    </tr>\n",
              "    <tr>\n",
              "      <th>1</th>\n",
              "      <td>4.9</td>\n",
              "      <td>3.0</td>\n",
              "      <td>1.4</td>\n",
              "      <td>0.2</td>\n",
              "      <td>0</td>\n",
              "    </tr>\n",
              "    <tr>\n",
              "      <th>2</th>\n",
              "      <td>4.7</td>\n",
              "      <td>3.2</td>\n",
              "      <td>1.3</td>\n",
              "      <td>0.2</td>\n",
              "      <td>0</td>\n",
              "    </tr>\n",
              "    <tr>\n",
              "      <th>3</th>\n",
              "      <td>4.6</td>\n",
              "      <td>3.1</td>\n",
              "      <td>1.5</td>\n",
              "      <td>0.2</td>\n",
              "      <td>0</td>\n",
              "    </tr>\n",
              "    <tr>\n",
              "      <th>4</th>\n",
              "      <td>5.0</td>\n",
              "      <td>3.6</td>\n",
              "      <td>1.4</td>\n",
              "      <td>0.2</td>\n",
              "      <td>0</td>\n",
              "    </tr>\n",
              "  </tbody>\n",
              "</table>\n",
              "</div>"
            ],
            "text/plain": [
              "   sepal length (cm)  sepal width (cm)  ...  petal width (cm)  target\n",
              "0                5.1               3.5  ...               0.2       0\n",
              "1                4.9               3.0  ...               0.2       0\n",
              "2                4.7               3.2  ...               0.2       0\n",
              "3                4.6               3.1  ...               0.2       0\n",
              "4                5.0               3.6  ...               0.2       0\n",
              "\n",
              "[5 rows x 5 columns]"
            ]
          },
          "metadata": {
            "tags": []
          },
          "execution_count": 13
        }
      ]
    },
    {
      "cell_type": "markdown",
      "metadata": {
        "id": "7jxWPAr8S1Jj"
      },
      "source": [
        "- Tách dữ liệu thành các thuộc tính có trong (X) và nhãn (label) mục tiêu (y), là nhãn loài cho từng loại cây."
      ]
    },
    {
      "cell_type": "code",
      "metadata": {
        "id": "N85bH8x7SsNC"
      },
      "source": [
        "# Xóa cột target và tách thành 2 loại: X chứa các thuộc tính (5 thuộc tính) và y là nhãn (target)\n",
        "X = df.drop('target', axis=1)\n",
        "y = df.target"
      ],
      "execution_count": null,
      "outputs": []
    },
    {
      "cell_type": "markdown",
      "metadata": {
        "id": "6aN7YVffTXo2"
      },
      "source": [
        "## **2.3 Hàm tính khoảng cách**\n",
        "- Đóng vai trò rất quan trọng trong phương pháp học dựa trên các láng giềng gần nhất.\n",
        "- Thường được xác định trước và không thay đổi trong suốt quá trình học và phân loai.\n",
        "- **Các thuộc tính khác nhau** có thể (nên) có **mức độ ảnh hưởng khác nhau** đối với giá trị khoảng cách.\n",
        "- Tính khoảng cách hai điểm đã cho bằng `Minkowski distance`\n",
        "\n",
        "![image.png](data:image/png;base64,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)\n",
        "\n",
        "- `Minkowski distance` là thang đo khoảng cách tổng quát trong các thang đo. Tùy thuộc vào giá trị của p, ta sẽ có được một thang đo khác, ví dụ như:\n",
        "\n",
        "    - p = 1, `Manhattan Distance`\n",
        "\n",
        "    - p = 2, `Euclidean Distance`\n",
        "\n",
        "    - p = ∞, `Chebychev Distance`"
      ]
    },
    {
      "cell_type": "code",
      "metadata": {
        "colab": {
          "base_uri": "https://localhost:8080/"
        },
        "id": "87Dk5pSCTJVU",
        "outputId": "6ff40002-66ee-4d0b-9d57-6f6c1947bbdc"
      },
      "source": [
        "# Tính toán khoảng cách giữa hai điểm\n",
        "def minkowski_dist(a, b, p=1):\n",
        "\n",
        "    dim = len(a)\n",
        "    \n",
        "    # Khởi tạo giá trị distance ban đầu\n",
        "    dist = 0\n",
        "    \n",
        "    # Tính toán minkowski distance sử dụng tham số là p\n",
        "    for d in range(dim):\n",
        "        dist += abs(a[d] - b[d])**p    \n",
        "    dist = dist**(1/p)\n",
        "    return dist\n",
        "\n",
        "minkowski_dist(a=X.iloc[0], b=X.iloc[1], p=1)"
      ],
      "execution_count": null,
      "outputs": [
        {
          "output_type": "execute_result",
          "data": {
            "text/plain": [
              "0.6999999999999993"
            ]
          },
          "metadata": {
            "tags": []
          },
          "execution_count": 15
        }
      ]
    },
    {
      "cell_type": "code",
      "metadata": {
        "colab": {
          "base_uri": "https://localhost:8080/",
          "height": 197
        },
        "id": "otCJ0KJkVa5y",
        "outputId": "1b5f1142-ffe5-4027-c428-cb9c2f41a99a"
      },
      "source": [
        "# Lặp lại phép tính minkowski_distance cho tất cả các điểm được gắn nhãn trong X và lưu trữ chúng trong khung dữ liệu.\n",
        "test_pt = [4.8, 2.7, 2.5, 0.7]\n",
        "# Ta lặp lại từng giá trị trong tập dữ liệu và sử dụng hàm khoảng cách ở trên để tính toán khoảng cách giữa hai điểm\n",
        "# Tính khoảng cách giữa test_pt và tất cả các điểm trong X\n",
        "dist = []\n",
        "for i in X.index:\n",
        "    dist.append(minkowski_dist(test_pt, X.iloc[i]))\n",
        "df_dists = pd.DataFrame(data=dist, index=X.index, columns=['dist'])\n",
        "df_dists.head()"
      ],
      "execution_count": null,
      "outputs": [
        {
          "output_type": "execute_result",
          "data": {
            "text/html": [
              "<div>\n",
              "<style scoped>\n",
              "    .dataframe tbody tr th:only-of-type {\n",
              "        vertical-align: middle;\n",
              "    }\n",
              "\n",
              "    .dataframe tbody tr th {\n",
              "        vertical-align: top;\n",
              "    }\n",
              "\n",
              "    .dataframe thead th {\n",
              "        text-align: right;\n",
              "    }\n",
              "</style>\n",
              "<table border=\"1\" class=\"dataframe\">\n",
              "  <thead>\n",
              "    <tr style=\"text-align: right;\">\n",
              "      <th></th>\n",
              "      <th>dist</th>\n",
              "    </tr>\n",
              "  </thead>\n",
              "  <tbody>\n",
              "    <tr>\n",
              "      <th>0</th>\n",
              "      <td>2.7</td>\n",
              "    </tr>\n",
              "    <tr>\n",
              "      <th>1</th>\n",
              "      <td>2.0</td>\n",
              "    </tr>\n",
              "    <tr>\n",
              "      <th>2</th>\n",
              "      <td>2.3</td>\n",
              "    </tr>\n",
              "    <tr>\n",
              "      <th>3</th>\n",
              "      <td>2.1</td>\n",
              "    </tr>\n",
              "    <tr>\n",
              "      <th>4</th>\n",
              "      <td>2.7</td>\n",
              "    </tr>\n",
              "  </tbody>\n",
              "</table>\n",
              "</div>"
            ],
            "text/plain": [
              "   dist\n",
              "0   2.7\n",
              "1   2.0\n",
              "2   2.3\n",
              "3   2.1\n",
              "4   2.7"
            ]
          },
          "metadata": {
            "tags": []
          },
          "execution_count": 16
        }
      ]
    },
    {
      "cell_type": "markdown",
      "metadata": {
        "id": "t02iYV6GWB3i"
      },
      "source": [
        "## **2.4 Sắp xếp các số đo khoảng cách để tìm các điểm gần điểm kiểm tra nhất**"
      ]
    },
    {
      "cell_type": "code",
      "metadata": {
        "colab": {
          "base_uri": "https://localhost:8080/",
          "height": 197
        },
        "id": "Fwgh7qugPzOg",
        "outputId": "2ae3c6e4-d5ff-4edf-cf2d-aadf149d3933"
      },
      "source": [
        "# Tìm 5 hàng xóm gần nhất bằng phương thức sort_values\n",
        "df_nearest_neighbor = df_dists.sort_values(by=['dist'], axis=0)[:5]\n",
        "df_nearest_neighbor"
      ],
      "execution_count": null,
      "outputs": [
        {
          "output_type": "execute_result",
          "data": {
            "text/html": [
              "<div>\n",
              "<style scoped>\n",
              "    .dataframe tbody tr th:only-of-type {\n",
              "        vertical-align: middle;\n",
              "    }\n",
              "\n",
              "    .dataframe tbody tr th {\n",
              "        vertical-align: top;\n",
              "    }\n",
              "\n",
              "    .dataframe thead th {\n",
              "        text-align: right;\n",
              "    }\n",
              "</style>\n",
              "<table border=\"1\" class=\"dataframe\">\n",
              "  <thead>\n",
              "    <tr style=\"text-align: right;\">\n",
              "      <th></th>\n",
              "      <th>dist</th>\n",
              "    </tr>\n",
              "  </thead>\n",
              "  <tbody>\n",
              "    <tr>\n",
              "      <th>98</th>\n",
              "      <td>1.4</td>\n",
              "    </tr>\n",
              "    <tr>\n",
              "      <th>57</th>\n",
              "      <td>1.5</td>\n",
              "    </tr>\n",
              "    <tr>\n",
              "      <th>93</th>\n",
              "      <td>1.7</td>\n",
              "    </tr>\n",
              "    <tr>\n",
              "      <th>24</th>\n",
              "      <td>1.8</td>\n",
              "    </tr>\n",
              "    <tr>\n",
              "      <th>30</th>\n",
              "      <td>1.8</td>\n",
              "    </tr>\n",
              "  </tbody>\n",
              "</table>\n",
              "</div>"
            ],
            "text/plain": [
              "    dist\n",
              "98   1.4\n",
              "57   1.5\n",
              "93   1.7\n",
              "24   1.8\n",
              "30   1.8"
            ]
          },
          "metadata": {
            "tags": []
          },
          "execution_count": 17
        }
      ]
    },
    {
      "cell_type": "markdown",
      "metadata": {
        "id": "20Zgh4dGWpVR"
      },
      "source": [
        "## **2.5 Tìm nhãn xuất hiện nhiều nhất của những điểm gần nhất và dự đoán nhãn của điểm kiểm tra**\n",
        "- Ta sử dụng \n",
        "    - `collection.Counter` để theo dõi các nhãn trùng với các điểm lân cận gần nhất.\n",
        "    - phương thức `.most_common ()` để trả về nhãn xuất hiện phổ biến nhất."
      ]
    },
    {
      "cell_type": "code",
      "metadata": {
        "colab": {
          "base_uri": "https://localhost:8080/"
        },
        "id": "vaR7c2Q2Wfl6",
        "outputId": "ca78f040-39e2-44be-90b5-4ae5bb15e2fa"
      },
      "source": [
        "from collections import Counter\n",
        "\n",
        "# Theo dõi nhãn trùng với các điểm lân cận gần nhất\n",
        "\n",
        "counter = Counter(y[df_nearest_neighbor.index])\n",
        "\n",
        "# Chọn nhãn chung nhất của tất cả các láng giềng gần nhất\n",
        "\n",
        "counter.most_common()[0][0]"
      ],
      "execution_count": null,
      "outputs": [
        {
          "output_type": "execute_result",
          "data": {
            "text/plain": [
              "1"
            ]
          },
          "metadata": {
            "tags": []
          },
          "execution_count": 18
        }
      ]
    },
    {
      "cell_type": "markdown",
      "metadata": {
        "id": "9Lp-6Td8WyQh"
      },
      "source": [
        "## **2.6 Tách dữ liệu train-test (Train-test split)**\n",
        "- Thực hiện train_test_split trên dữ liệu (75% train, 25% test) sau đó chia tỷ lệ dữ liệu bằng StandardScaler(). Vì KNN dựa trên khoảng cách, điều quan trọng là phải đảm bảo rằng các tính năng được chia tỷ lệ phù hợp trước khi đưa chúng vào thuật toán."
      ]
    },
    {
      "cell_type": "markdown",
      "metadata": {
        "id": "uddJPyzkKcA1"
      },
      "source": [
        "### **Chuẩn hóa dữ liệu (Normalization data)**\n",
        "- Các thuộc tính có giá trị lớn sẽ ảnh hưởng nhiều đến khoảng cách giữa các đối tượng.\n",
        "- Các thuộc tính có miền giá trị khác nhau.\n",
        "=> Cần phải chuẩn hóa dữ liệu.\n",
        "- Chuẩn hóa dữ liệu / Co giãn dữ liệu (Normalization data / Scaling data) là một phương pháp chuẩn hóa phạm vi của các đặc trưng dữ liệu và được thực hiện trong suốt quá trình tiền xử lí dữ liệu. Có các cách để co giãn dữ liệu như chuẩn hóa min-max, co giãn trung bình,...Chúng tôi sử dụng *chính quy hóa (standardisation)*\n",
        "\n",
        "- Việc chính quy hóa dữ liệu giúp cho giá trị của mỗi đặc trưng có trung bình bằng 0 và phương sai bằng 1. Phương pháp này được sử dụng rộng rãi trong việc chuẩn hóa dữ liệu của nhiều thuật toán học máy (SVM, logistic regression và ANNs).\n",
        "\n",
        "Để tính toán chính quy hóa dữ liệu, ta phải xác định trung bình và độ lệch chuẩn cho phân phối của mỗi đặc trưng. Tiếp theo ta lấy mỗi giá trị của đặc trưng trừ đi giá trị trung bình rồi chia cho độ lệch chuẩn của đặc trưng đó như công thức dưới đây:\n",
        "\n",
        "![10-12-2018-22-38-40-image.png](data:image/png;base64,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)\n",
        "\n",
        "Trong đó *x* là véc-tơ đặc trưng ban đầu, *average(x)* là trung bình của véc-tơ đặc trưng đó và *std(x)* là độ lệch chuẩn của nó."
      ]
    },
    {
      "cell_type": "code",
      "metadata": {
        "id": "0xiUly9ZWtLF"
      },
      "source": [
        "from sklearn.model_selection import train_test_split\n",
        "from sklearn.preprocessing import StandardScaler\n",
        "\n",
        "# Split the data - 75% train, 25% test\n",
        "\n",
        "X_train, X_test, y_train, y_test = train_test_split(X, y, test_size=0.25,\n",
        "                                                   random_state=1)\n",
        "\n",
        "# Scale the X data\n",
        "\n",
        "scaler = StandardScaler()\n",
        "X_train = scaler.fit_transform(X_train)\n",
        "X_test = scaler.transform(X_test)"
      ],
      "execution_count": null,
      "outputs": []
    },
    {
      "cell_type": "markdown",
      "metadata": {
        "id": "q45iPJZVXBgq"
      },
      "source": [
        "## **2.7 Dự đoán dữ liệu và tính độ chính xác trên tập train, test**\n",
        "- Hàm `knn_predict` dự đoán nhận tất cả dữ liệu huấn luyện và kiểm tra, k và p, và trả về các dự đoán mà bộ phân loại KNN tạo cho tập kiểm tra (y_hat_test). Hàm sẽ trả về một danh sách các gợi ý nhãn chỉ chứa 0, 1 và 2."
      ]
    },
    {
      "cell_type": "code",
      "metadata": {
        "colab": {
          "base_uri": "https://localhost:8080/"
        },
        "id": "brWiY_ffWxBP",
        "outputId": "2f6f7e99-cf43-4474-debf-c0e1cac1eb25"
      },
      "source": [
        "def knn_predict(X_train, X_test, y_train, y_test, k, p):\n",
        "    \n",
        "    # Counter to help with label voting\n",
        "    from collections import Counter\n",
        "    \n",
        "    # Make predictions on the test data\n",
        "    # Need output of 1 prediction per test data point\n",
        "    y_hat_test = []\n",
        "\n",
        "    for test_point in X_test:\n",
        "        dist = []\n",
        "\n",
        "        for train_point in X_train:\n",
        "            dist_X = minkowski_dist(test_point, train_point, p=p)\n",
        "            dist.append(dist_X)\n",
        "        \n",
        "        # Store distances in a dataframe\n",
        "        df_dists = pd.DataFrame(data=dist, columns=['dist'], \n",
        "                                index=y_train.index)\n",
        "        \n",
        "        # Sort distances, and only consider the k closest points\n",
        "        df_nearest_neighbor = df_dists.sort_values(by=['dist'], axis=0)[:k]\n",
        "\n",
        "        # Create counter object to track the labels of k closest neighbors\n",
        "        counter = Counter(y_train[df_nearest_neighbor.index])\n",
        "\n",
        "        # Get most common label of all the nearest neighbors\n",
        "        prediction = counter.most_common()[0][0]\n",
        "        \n",
        "        # Append prediction to output list\n",
        "        y_hat_test.append(prediction)\n",
        "        \n",
        "    return y_hat_test\n",
        "\n",
        "\n",
        "# Make predictions on test dataset\n",
        "y_hat_test = knn_predict(X_train, X_test, y_train, y_test, k=5, p=1)\n",
        "\n",
        "print(y_hat_test)"
      ],
      "execution_count": null,
      "outputs": [
        {
          "output_type": "stream",
          "text": [
            "[0, 1, 1, 0, 2, 1, 2, 0, 0, 2, 1, 0, 2, 1, 1, 0, 1, 1, 0, 0, 1, 1, 2, 0, 2, 1, 0, 0, 1, 2, 1, 2, 1, 2, 2, 0, 1, 0]\n"
          ],
          "name": "stdout"
        }
      ]
    },
    {
      "cell_type": "code",
      "metadata": {
        "colab": {
          "base_uri": "https://localhost:8080/"
        },
        "id": "2QPyOXADXL-t",
        "outputId": "c7c263fa-9ebc-43fa-fa80-3f76989aa6fb"
      },
      "source": [
        "# Tính độ chính xác (accuracy) trên tập test\n",
        "\n",
        "from sklearn.metrics import accuracy_score\n",
        "\n",
        "print(accuracy_score(y_test, y_hat_test)*100)"
      ],
      "execution_count": null,
      "outputs": [
        {
          "output_type": "stream",
          "text": [
            "97.36842105263158\n"
          ],
          "name": "stdout"
        }
      ]
    },
    {
      "cell_type": "markdown",
      "metadata": {
        "id": "6hXO10DIXU1p"
      },
      "source": [
        "# **3. Kiểm tra thuật toán KNN bằng thư viện scikit-learn**"
      ]
    },
    {
      "cell_type": "code",
      "metadata": {
        "colab": {
          "base_uri": "https://localhost:8080/"
        },
        "id": "DO52cpMEXPZY",
        "outputId": "8847eef2-7cc1-4963-e6f4-2e09ae03fd65"
      },
      "source": [
        "from sklearn.neighbors import KNeighborsClassifier\n",
        "import time\n",
        "start = time.time()\n",
        "clf = KNeighborsClassifier(n_neighbors=5, p=1)\n",
        "clf.fit(X_train, y_train)\n",
        "y_pred_test = clf.predict(X_test)\n",
        "stop = time.time()\n",
        "KNN_time = {stop - start}\n",
        "print(f\"Training time: {KNN_time}s\")\n",
        "print(f\"Độ chính xác của KNN trong tập test (bằng thư viện scikit-learn): \", accuracy_score(y_test, y_pred_test)*100)"
      ],
      "execution_count": null,
      "outputs": [
        {
          "output_type": "stream",
          "text": [
            "Training time: {0.004209280014038086}s\n",
            "Độ chính xác của KNN trong tập test (bằng thư viện scikit-learn):  97.36842105263158\n"
          ],
          "name": "stdout"
        }
      ]
    }
  ]
}